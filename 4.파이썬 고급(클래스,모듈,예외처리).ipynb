{
 "cells": [
  {
   "cell_type": "markdown",
   "id": "174deddb",
   "metadata": {},
   "source": [
    "# 클래스"
   ]
  },
  {
   "cell_type": "code",
   "execution_count": 3,
   "id": "0c7c02d9",
   "metadata": {},
   "outputs": [
    {
     "data": {
      "text/plain": [
       "11"
      ]
     },
     "execution_count": 3,
     "metadata": {},
     "output_type": "execute_result"
    }
   ],
   "source": [
    "result = 0\n",
    "def add(num):\n",
    "  global result\n",
    "  result += num\n",
    "  return result\n",
    "\n",
    "add(4)\n",
    "add(7)"
   ]
  },
  {
   "cell_type": "code",
   "execution_count": 31,
   "id": "08a4c5ad",
   "metadata": {},
   "outputs": [
    {
     "name": "stdout",
     "output_type": "stream",
     "text": [
      "6\n",
      "2\n",
      "8\n",
      "2.0\n",
      "16\n"
     ]
    }
   ],
   "source": [
    "class Calc:\n",
    "  def __init__(self, first = 0, second = 0):\n",
    "    self.first = first\n",
    "    self.second = second\n",
    "    \n",
    "  def add(self):\n",
    "    return self.first + self.second\n",
    "  \n",
    "  def sub(self):\n",
    "    return self.first - self.second\n",
    "  \n",
    "  def mul(self):\n",
    "    return self.first * self.second\n",
    "  \n",
    "  def div(self):\n",
    "    return self.first / self.second if self.second != 0 else 'Division Error!'\n",
    "  \n",
    "  def pow(self):\n",
    "    return self.first ** self.second\n",
    "  \n",
    "cal1 = Calc(4, 2)\n",
    "print(cal1.add())\n",
    "print(cal1.sub())\n",
    "print(cal1.mul())\n",
    "print(cal1.div())\n",
    "print(cal1.pow())"
   ]
  },
  {
   "cell_type": "code",
   "execution_count": null,
   "id": "ce2c2a4f",
   "metadata": {},
   "outputs": [
    {
     "name": "stdout",
     "output_type": "stream",
     "text": [
      "6\n",
      "5\n",
      "16\n"
     ]
    }
   ],
   "source": [
    "class MoreCalc(Calc):\n",
    "  def add(self): # 메소드 오버라이딩\n",
    "    return self.first + 1\n",
    "  \n",
    "cal2 = MoreCalc(4, 2)\n",
    "print(cal1.add())\n",
    "print(cal2.add())\n",
    "print(cal2.pow())"
   ]
  },
  {
   "cell_type": "markdown",
   "id": "ed826e29",
   "metadata": {},
   "source": [
    "### 클래스 변수"
   ]
  },
  {
   "cell_type": "code",
   "execution_count": 35,
   "id": "ae8eaa4a",
   "metadata": {},
   "outputs": [
    {
     "name": "stdout",
     "output_type": "stream",
     "text": [
      "김\n",
      "김\n",
      "김\n",
      "1675607638832\n",
      "1675607638832\n",
      "1675607638832\n",
      "이\n",
      "김\n",
      "김\n",
      "1675607648240\n",
      "1675607638832\n",
      "1675607638832\n"
     ]
    }
   ],
   "source": [
    "class Family:\n",
    "  lastName = \"김\"\n",
    "\n",
    "a = Family()\n",
    "b = Family()\n",
    "\n",
    "print(a.lastName)\n",
    "print(b.lastName)\n",
    "print(Family.lastName)\n",
    "\n",
    "print(id(a.lastName))\n",
    "print(id(b.lastName))\n",
    "print(id(Family.lastName))\n",
    "\n",
    "a.lastName = \"이\"\n",
    "\n",
    "print(a.lastName)\n",
    "print(b.lastName)\n",
    "print(Family.lastName)\n",
    "\n",
    "print(id(a.lastName))\n",
    "print(id(b.lastName))\n",
    "print(id(Family.lastName))\n"
   ]
  },
  {
   "cell_type": "markdown",
   "id": "8cdb17f7",
   "metadata": {},
   "source": [
    "# 모듈"
   ]
  },
  {
   "cell_type": "code",
   "execution_count": 38,
   "id": "c070117a",
   "metadata": {},
   "outputs": [],
   "source": [
    "# %%writefile mod.py\n",
    "# def add(a, b):\n",
    "#   return a + b\n",
    "# def sub(a, b):\n",
    "#   return a - b"
   ]
  },
  {
   "cell_type": "code",
   "execution_count": 43,
   "id": "293fa489",
   "metadata": {},
   "outputs": [
    {
     "name": "stdout",
     "output_type": "stream",
     "text": [
      "9\n",
      "-4\n"
     ]
    }
   ],
   "source": [
    "import mod\n",
    "print(mod.add(3, 6))\n",
    "print(mod.sub(1, 5))"
   ]
  },
  {
   "cell_type": "code",
   "execution_count": 44,
   "id": "68dd10e6",
   "metadata": {},
   "outputs": [
    {
     "data": {
      "text/plain": [
       "10"
      ]
     },
     "execution_count": 44,
     "metadata": {},
     "output_type": "execute_result"
    }
   ],
   "source": [
    "from mod import add\n",
    "add(4, 6)"
   ]
  },
  {
   "cell_type": "markdown",
   "id": "579b5cb7",
   "metadata": {},
   "source": [
    "## 예외처리"
   ]
  },
  {
   "cell_type": "code",
   "execution_count": null,
   "id": "d39ae343",
   "metadata": {},
   "outputs": [
    {
     "name": "stdout",
     "output_type": "stream",
     "text": [
      "오류가 발생했습니다. [Errno 2] No such file or directory: 'das.csv'\n"
     ]
    }
   ],
   "source": [
    "import pandas as pd"
   ]
  },
  {
   "cell_type": "code",
   "execution_count": null,
   "id": "75796648",
   "metadata": {},
   "outputs": [
    {
     "name": "stdout",
     "output_type": "stream",
     "text": [
      "오류가 발생했습니다. [Errno 2] No such file or directory: 'das.csv'\n",
      "수행 완료\n"
     ]
    }
   ],
   "source": [
    "try:\n",
    "  df = pd.read_csv('das.csv')\n",
    "except FileNotFoundError as e:\n",
    "  print(f'오류가 발생했습니다. {e}')\n",
    "\n",
    "print('수행이 완료되었습니다.')"
   ]
  },
  {
   "cell_type": "code",
   "execution_count": null,
   "id": "85f215f6",
   "metadata": {},
   "outputs": [],
   "source": []
  },
  {
   "cell_type": "code",
   "execution_count": null,
   "id": "365a829e",
   "metadata": {},
   "outputs": [],
   "source": []
  }
 ],
 "metadata": {
  "kernelspec": {
   "display_name": "Python 3",
   "language": "python",
   "name": "python3"
  },
  "language_info": {
   "codemirror_mode": {
    "name": "ipython",
    "version": 3
   },
   "file_extension": ".py",
   "mimetype": "text/x-python",
   "name": "python",
   "nbconvert_exporter": "python",
   "pygments_lexer": "ipython3",
   "version": "3.13.7"
  }
 },
 "nbformat": 4,
 "nbformat_minor": 5
}
