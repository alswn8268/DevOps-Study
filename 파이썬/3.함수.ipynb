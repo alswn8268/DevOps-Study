{
 "cells": [
  {
   "cell_type": "markdown",
   "id": "5f53c1e3",
   "metadata": {},
   "source": [
    "# 함수"
   ]
  },
  {
   "cell_type": "code",
   "execution_count": null,
   "id": "7756dc7b",
   "metadata": {},
   "outputs": [
    {
     "data": {
      "text/plain": [
       "7"
      ]
     },
     "execution_count": 12,
     "metadata": {},
     "output_type": "execute_result"
    }
   ],
   "source": [
    "def addto (a: int, b: int): # a, b는 매개변수 (parameter)\n",
    "  return a + b\n",
    "\n",
    "addto(3, 4) # 3, 4는 인수 (arguments)"
   ]
  },
  {
   "cell_type": "code",
   "execution_count": null,
   "id": "ae07bb06",
   "metadata": {},
   "outputs": [
    {
     "data": {
      "text/plain": [
       "18"
      ]
     },
     "execution_count": 11,
     "metadata": {},
     "output_type": "execute_result"
    }
   ],
   "source": [
    "def MUL (a: int, b: int):\n",
    "  m = a * b\n",
    "  return m # return m은 m이 가진 값을 돌려준다.\n",
    "\n",
    "MUL(3, 6)"
   ]
  },
  {
   "cell_type": "code",
   "execution_count": 2,
   "id": "16310e63",
   "metadata": {},
   "outputs": [
    {
     "data": {
      "text/plain": [
       "'Ho~!!'"
      ]
     },
     "execution_count": 2,
     "metadata": {},
     "output_type": "execute_result"
    }
   ],
   "source": [
    "def say (): \n",
    "  return \"Ho~!!\"\n",
    "\n",
    "say()"
   ]
  },
  {
   "cell_type": "code",
   "execution_count": 7,
   "id": "808ec3f1",
   "metadata": {},
   "outputs": [
    {
     "data": {
      "text/plain": [
       "9"
      ]
     },
     "execution_count": 7,
     "metadata": {},
     "output_type": "execute_result"
    }
   ],
   "source": [
    "def add_ (a = 4, b = 5):\n",
    "  return a + b\n",
    "\n",
    "add_()"
   ]
  },
  {
   "cell_type": "code",
   "execution_count": 8,
   "id": "e4537ab2",
   "metadata": {},
   "outputs": [
    {
     "data": {
      "text/plain": [
       "7"
      ]
     },
     "execution_count": 8,
     "metadata": {},
     "output_type": "execute_result"
    }
   ],
   "source": [
    "add_(3, 4)"
   ]
  },
  {
   "cell_type": "code",
   "execution_count": 10,
   "id": "993ecfc3",
   "metadata": {},
   "outputs": [
    {
     "data": {
      "text/plain": [
       "-2"
      ]
     },
     "execution_count": 10,
     "metadata": {},
     "output_type": "execute_result"
    }
   ],
   "source": [
    "def ma(a, b):\n",
    "  return a - b\n",
    "\n",
    "ma(b = 7, a  = 5)"
   ]
  },
  {
   "cell_type": "code",
   "execution_count": null,
   "id": "fd089417",
   "metadata": {},
   "outputs": [
    {
     "name": "stdout",
     "output_type": "stream",
     "text": [
      "(1, 2, 3, 4, 5)\n"
     ]
    },
    {
     "data": {
      "text/plain": [
       "15"
      ]
     },
     "execution_count": 14,
     "metadata": {},
     "output_type": "execute_result"
    }
   ],
   "source": [
    "def add_many(*args):\n",
    "  print(args)\n",
    "  result = 0\n",
    "  for i in args:\n",
    "    result += i\n",
    "  return result\n",
    "\n",
    "add_many(1, 2, 3, 4, 5)"
   ]
  },
  {
   "cell_type": "code",
   "execution_count": 18,
   "id": "7d587cce",
   "metadata": {},
   "outputs": [
    {
     "data": {
      "text/plain": [
       "55"
      ]
     },
     "execution_count": 18,
     "metadata": {},
     "output_type": "execute_result"
    }
   ],
   "source": [
    "def add_mul(choice, *args):\n",
    "  if choice == \"add\":\n",
    "    result = 0\n",
    "    for i in args:\n",
    "      result += i\n",
    "  elif choice == \"mul\":\n",
    "    result = 1\n",
    "    for i in args:\n",
    "      result *= i\n",
    "  return result\n",
    "\n",
    "add_mul('add', 1, 2, 3, 4, 5, 6, 7, 8, 9, 10)"
   ]
  },
  {
   "cell_type": "code",
   "execution_count": null,
   "id": "17809169",
   "metadata": {},
   "outputs": [
    {
     "data": {
      "text/plain": [
       "(8, 12, -4)"
      ]
     },
     "execution_count": 22,
     "metadata": {},
     "output_type": "execute_result"
    }
   ],
   "source": [
    "def add_mul_d (a, b):\n",
    "  return a+b, a*b, a-b\n",
    "\n",
    "add_mul_d(2, 6)"
   ]
  },
  {
   "cell_type": "code",
   "execution_count": 23,
   "id": "9b377d14",
   "metadata": {},
   "outputs": [
    {
     "name": "stdout",
     "output_type": "stream",
     "text": [
      "3\n",
      "2\n",
      "-1\n"
     ]
    }
   ],
   "source": [
    "r1, r2, r3 = add_mul_d(1, 2)\n",
    "\n",
    "print(r1)\n",
    "print(r2)\n",
    "print(r3)"
   ]
  },
  {
   "cell_type": "code",
   "execution_count": 25,
   "id": "7d123fb2",
   "metadata": {},
   "outputs": [
    {
     "name": "stdout",
     "output_type": "stream",
     "text": [
      "2\n",
      "1\n"
     ]
    }
   ],
   "source": [
    "a = 1\n",
    "def vartest(a):\n",
    "  a += 1\n",
    "  return a\n",
    "\n",
    "print(vartest(1))\n",
    "print(a)"
   ]
  },
  {
   "cell_type": "code",
   "execution_count": 28,
   "id": "e5937a9c",
   "metadata": {},
   "outputs": [
    {
     "name": "stdout",
     "output_type": "stream",
     "text": [
      "1\n",
      "2\n"
     ]
    }
   ],
   "source": [
    "a = 1\n",
    "def vartest():\n",
    "  global a\n",
    "  a += 1\n",
    "\n",
    "print(a)\n",
    "vartest()\n",
    "print(a)"
   ]
  },
  {
   "cell_type": "code",
   "execution_count": null,
   "id": "3f74bb30",
   "metadata": {},
   "outputs": [
    {
     "data": {
      "text/plain": [
       "0.6666666666666666"
      ]
     },
     "execution_count": 35,
     "metadata": {},
     "output_type": "execute_result"
    }
   ],
   "source": [
    "def calc (a: int, b: int, mode: str = 'add'):\n",
    "  if mode == 'add':\n",
    "    return a + b\n",
    "  elif mode == \"sub\":\n",
    "    return a - b\n",
    "  elif mode == \"mul\":\n",
    "    return a * b\n",
    "  elif mode == \"div\" and b != 0:\n",
    "    return a / b\n",
    "  elif mode == \"div\" and b == 0: \n",
    "    return 'b는 0이 될 수 없습니다.'\n",
    "  else:\n",
    "    return 'mode를 알맞게 입력해주세요.'\n",
    "\n",
    "calc(2, 3, 'div')"
   ]
  },
  {
   "cell_type": "markdown",
   "id": "aec83986",
   "metadata": {},
   "source": [
    "## lambda"
   ]
  },
  {
   "cell_type": "code",
   "execution_count": 36,
   "id": "6dd40372",
   "metadata": {},
   "outputs": [
    {
     "data": {
      "text/plain": [
       "3"
      ]
     },
     "execution_count": 36,
     "metadata": {},
     "output_type": "execute_result"
    }
   ],
   "source": [
    "add = lambda x, y : x + y\n",
    "add(1, 2)"
   ]
  },
  {
   "cell_type": "code",
   "execution_count": null,
   "id": "c199ecbf",
   "metadata": {},
   "outputs": [],
   "source": []
  },
  {
   "cell_type": "code",
   "execution_count": null,
   "id": "7a1477e4",
   "metadata": {},
   "outputs": [],
   "source": []
  },
  {
   "cell_type": "code",
   "execution_count": null,
   "id": "e3fff14a",
   "metadata": {},
   "outputs": [],
   "source": []
  },
  {
   "cell_type": "code",
   "execution_count": null,
   "id": "78b42f21",
   "metadata": {},
   "outputs": [],
   "source": []
  }
 ],
 "metadata": {
  "kernelspec": {
   "display_name": "Python 3",
   "language": "python",
   "name": "python3"
  },
  "language_info": {
   "codemirror_mode": {
    "name": "ipython",
    "version": 3
   },
   "file_extension": ".py",
   "mimetype": "text/x-python",
   "name": "python",
   "nbconvert_exporter": "python",
   "pygments_lexer": "ipython3",
   "version": "3.13.7"
  }
 },
 "nbformat": 4,
 "nbformat_minor": 5
}
