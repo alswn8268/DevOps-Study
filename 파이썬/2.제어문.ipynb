{
 "cells": [
  {
   "cell_type": "markdown",
   "id": "1046a210",
   "metadata": {},
   "source": [
    "### 비교연산자"
   ]
  },
  {
   "cell_type": "code",
   "execution_count": 5,
   "id": "442c26bd",
   "metadata": {},
   "outputs": [
    {
     "name": "stdout",
     "output_type": "stream",
     "text": [
      "True\n",
      "False\n",
      "False\n",
      "True\n",
      "True\n",
      "False\n"
     ]
    }
   ],
   "source": [
    "a = 3\n",
    "b = 5\n",
    "print(a < b)\n",
    "print(a > b)\n",
    "print(a == b)\n",
    "print(a != b)\n",
    "print(a <= b)\n",
    "print(a >= b)"
   ]
  },
  {
   "cell_type": "markdown",
   "id": "c0d46faf",
   "metadata": {},
   "source": [
    "## 제어문"
   ]
  },
  {
   "cell_type": "markdown",
   "id": "43eba547",
   "metadata": {},
   "source": [
    "### if문"
   ]
  },
  {
   "cell_type": "code",
   "execution_count": 30,
   "id": "7656cf74",
   "metadata": {},
   "outputs": [
    {
     "name": "stdout",
     "output_type": "stream",
     "text": [
      "자산이 애매하게 5806원 있습니다.\n",
      "감사합니다.\n"
     ]
    }
   ],
   "source": [
    "# import random as rd\n",
    "money = rd.randint(0,10000)\n",
    "if money >= 10000 :\n",
    "  print(\"자산이 \" + str(money) + \"원 있습니다.\")\n",
    "elif money >= 5000 :\n",
    "  print (\"자산이 애매하게 \" + str(money) + \"원 있습니다.\")\n",
    "else :\n",
    "  print(\"자산이\")\n",
    "  print(money)\n",
    "  print(\"원 있습니다.\")\n",
    "print(\"감사합니다.\")"
   ]
  },
  {
   "cell_type": "code",
   "execution_count": 32,
   "id": "a9639fa5",
   "metadata": {},
   "outputs": [
    {
     "name": "stdout",
     "output_type": "stream",
     "text": [
      "택시 타고 가기\n"
     ]
    }
   ],
   "source": [
    "money = 3000\n",
    "card = False\n",
    "if money >= 3000 or card:\n",
    "  print('택시 타고 가기')\n",
    "else : \n",
    "  print('걸어가기')"
   ]
  },
  {
   "cell_type": "code",
   "execution_count": 34,
   "id": "ef9a9971",
   "metadata": {},
   "outputs": [
    {
     "name": "stdout",
     "output_type": "stream",
     "text": [
      "걸어가기\n"
     ]
    }
   ],
   "source": [
    "money = 3000\n",
    "card = False\n",
    "if money >= 3000 and card:\n",
    "  print('택시 타고 가기')\n",
    "else : \n",
    "  print('걸어가기')"
   ]
  },
  {
   "cell_type": "code",
   "execution_count": 38,
   "id": "6f768b64",
   "metadata": {},
   "outputs": [
    {
     "name": "stdout",
     "output_type": "stream",
     "text": [
      "True\n",
      "False\n",
      "True\n",
      "True\n"
     ]
    }
   ],
   "source": [
    "print(1 in [1, 2, 3])\n",
    "print(1 not in [1, 2, 3])\n",
    "print('a' in ('a', 'b', 'c'))\n",
    "print('j' not in 'python')"
   ]
  },
  {
   "cell_type": "code",
   "execution_count": 55,
   "id": "f3499737",
   "metadata": {},
   "outputs": [
    {
     "name": "stdout",
     "output_type": "stream",
     "text": [
      "success 92\n"
     ]
    }
   ],
   "source": [
    "score = rd.randint(0, 100)\n",
    "message = \"success\" if score >= 60 else \"fail\"\n",
    "print(message, score)"
   ]
  },
  {
   "cell_type": "code",
   "execution_count": 56,
   "id": "3b996002",
   "metadata": {},
   "outputs": [
    {
     "name": "stdout",
     "output_type": "stream",
     "text": [
      "aaaa\n",
      "bbbb\n"
     ]
    }
   ],
   "source": [
    "if 10 < 11:\n",
    "  print('aaaa')\n",
    "  if 3 > 1:\n",
    "    print('bbbb')"
   ]
  },
  {
   "cell_type": "markdown",
   "id": "5b761b28",
   "metadata": {},
   "source": [
    "## 반복문\n",
    "### while문"
   ]
  },
  {
   "cell_type": "code",
   "execution_count": 57,
   "id": "ea9471b8",
   "metadata": {},
   "outputs": [
    {
     "name": "stdout",
     "output_type": "stream",
     "text": [
      "나무를 1번 찍었습니다.\n",
      "나무를 2번 찍었습니다.\n",
      "나무를 3번 찍었습니다.\n",
      "나무를 4번 찍었습니다.\n",
      "나무를 5번 찍었습니다.\n",
      "나무가 넘어갑니다.\n"
     ]
    }
   ],
   "source": [
    "treeHit = 0\n",
    "while treeHit < 5:\n",
    "  treeHit = treeHit + 1\n",
    "  print(f\"나무를 {treeHit}번 찍었습니다.\")\n",
    "  if treeHit == 5:\n",
    "    print(\"나무가 넘어갑니다.\")"
   ]
  },
  {
   "cell_type": "code",
   "execution_count": 59,
   "id": "10a3f494",
   "metadata": {},
   "outputs": [],
   "source": [
    "import time\n",
    "time.sleep(1)"
   ]
  },
  {
   "cell_type": "code",
   "execution_count": 62,
   "id": "485b0b0e",
   "metadata": {},
   "outputs": [
    {
     "name": "stdout",
     "output_type": "stream",
     "text": [
      "Ctrl + C를 눌러야 while문을 빠져나갈 수 있습니다.\n",
      "Ctrl + C를 눌러야 while문을 빠져나갈 수 있습니다.\n",
      "Ctrl + C를 눌러야 while문을 빠져나갈 수 있습니다.\n",
      "Ctrl + C를 눌러야 while문을 빠져나갈 수 있습니다.\n",
      "Ctrl + C를 눌러야 while문을 빠져나갈 수 있습니다.\n"
     ]
    }
   ],
   "source": [
    "a = 0\n",
    "while a < 5: \n",
    "  print(\"Ctrl + C를 눌러야 while문을 빠져나갈 수 있습니다.\")\n",
    "  time.sleep(0.5)\n",
    "  a += 1"
   ]
  },
  {
   "cell_type": "code",
   "execution_count": 64,
   "id": "605891b5",
   "metadata": {},
   "outputs": [
    {
     "name": "stdout",
     "output_type": "stream",
     "text": [
      "남은 커피의 양은 9잔 입니다.\n",
      "남은 커피의 양은 8잔 입니다.\n",
      "남은 커피의 양은 7잔 입니다.\n",
      "남은 커피의 양은 6잔 입니다.\n",
      "남은 커피의 양은 5잔 입니다.\n",
      "남은 커피의 양은 4잔 입니다.\n",
      "남은 커피의 양은 3잔 입니다.\n",
      "남은 커피의 양은 2잔 입니다.\n",
      "남은 커피의 양은 1잔 입니다.\n",
      "SOLD OUT\n"
     ]
    }
   ],
   "source": [
    "coffee = 10\n",
    "while True:\n",
    "  coffee = coffee - 1\n",
    "  print(f\"남은 커피의 양은 {coffee}잔 입니다.\")\n",
    "  if coffee == 1:\n",
    "    print(\"SOLD OUT\")\n",
    "    break;\n",
    "  "
   ]
  },
  {
   "cell_type": "code",
   "execution_count": null,
   "id": "42983667",
   "metadata": {},
   "outputs": [
    {
     "name": "stdout",
     "output_type": "stream",
     "text": [
      "커피를 줍니다.\n",
      "돈을 다시 돌려주고 커피를 주지 않습니다.\n",
      "남은 커피의 양은 4 개 입니다.\n",
      "거스름돈 116 를 주고 커피를 줍니다.\n",
      "돈을 다시 돌려주고 커피를 주지 않습니다.\n",
      "남은 커피의 양은 3 개 입니다.\n",
      "거스름돈 356 를 주고 커피를 줍니다.\n",
      "거스름돈 156 를 주고 커피를 줍니다.\n",
      "거스름돈 6456384 를 주고 커피를 줍니다.\n",
      "커피가 다 떨어졌습니다. 판매를 중지합니다.\n"
     ]
    }
   ],
   "source": [
    "coffee = 5\n",
    "while True:\n",
    "  money = int(input(\"돈을 넣어 주세요: _______원\"))\n",
    "  if money == 300:\n",
    "    print(\"커피를 줍니다.\")\n",
    "    coffee -= 1\n",
    "  elif money > 300:\n",
    "    print(\"거스름돈\", (money - 300), \"원을 주고 커피를 줍니다.\")\n",
    "    coffee -= 1\n",
    "  else:\n",
    "    print(\"돈을 다시 돌려주고 커피를 주지 않습니다.\")\n",
    "    print(\"남은 커피의 양은\", coffee, \"잔입니다.\")\n",
    "  if coffee == 0:\n",
    "    print(\"커피가 다 떨어졌습니다. 판매를 중지합니다.\")\n",
    "    break"
   ]
  },
  {
   "cell_type": "code",
   "execution_count": 17,
   "id": "3c4de0ac",
   "metadata": {},
   "outputs": [
    {
     "name": "stdout",
     "output_type": "stream",
     "text": [
      "지금은 2025년 9월 23일 16시 45분 9초입니다.\n"
     ]
    }
   ],
   "source": [
    "import datetime as dt\n",
    "now = dt.datetime.now()\n",
    "print(f\"지금은 {now.year}년 {now.month}월 {now.day}일 {now.hour}시 {now.minute}분 {now.second}초입니다.\")"
   ]
  },
  {
   "cell_type": "code",
   "execution_count": 16,
   "id": "6510ff41",
   "metadata": {},
   "outputs": [
    {
     "name": "stdout",
     "output_type": "stream",
     "text": [
      "1\n",
      "3\n",
      "5\n",
      "7\n",
      "9\n"
     ]
    }
   ],
   "source": [
    "a = 0\n",
    "while a < 10:\n",
    "  a += 1\n",
    "  if a % 2 == 0:\n",
    "    continue\n",
    "  print(a)"
   ]
  },
  {
   "cell_type": "code",
   "execution_count": 18,
   "id": "d52d0e0b",
   "metadata": {},
   "outputs": [
    {
     "name": "stdout",
     "output_type": "stream",
     "text": [
      "자장면 먹고 싶네요\n",
      "1번 반복중입니다.\n",
      "\n",
      "삼겹살 먹고 싶네요\n",
      "2번 반복중입니다.\n",
      "\n",
      "광어회 먹고 싶네요\n",
      "3번 반복중입니다.\n",
      "\n",
      "갈비 먹고 싶네요\n",
      "4번 반복중입니다.\n",
      "\n",
      "종료\n"
     ]
    }
   ],
   "source": [
    "test_list = ['자장면', '삼겹살', '광어회', '갈비']\n",
    "cnt = 0\n",
    "for i in test_list:\n",
    "  cnt += 1\n",
    "  print(i, '먹고 싶네요')\n",
    "  print(f'{cnt}번 반복중입니다.\\n')\n",
    "print('종료')"
   ]
  },
  {
   "cell_type": "code",
   "execution_count": 19,
   "id": "dff834ed",
   "metadata": {},
   "outputs": [
    {
     "name": "stdout",
     "output_type": "stream",
     "text": [
      "3\n",
      "7\n",
      "11\n"
     ]
    }
   ],
   "source": [
    "a = [(1, 2), (3, 4), (5, 6)]\n",
    "for (f, l) in a:\n",
    "  print (f+l)"
   ]
  },
  {
   "cell_type": "code",
   "execution_count": 20,
   "id": "c68972dc",
   "metadata": {},
   "outputs": [
    {
     "name": "stdout",
     "output_type": "stream",
     "text": [
      "a\n",
      "b\n",
      "c\n",
      "1\n",
      "2\n",
      "3\n"
     ]
    }
   ],
   "source": [
    "dict_a = {'a': 1, 'b': 2, 'c': 3}\n",
    "for i in dict_a.keys():\n",
    "  print(i)\n",
    "for j in dict_a.values():\n",
    "  print(j)"
   ]
  },
  {
   "cell_type": "code",
   "execution_count": 22,
   "id": "56e41876",
   "metadata": {},
   "outputs": [
    {
     "name": "stdout",
     "output_type": "stream",
     "text": [
      "1\n",
      "2\n",
      "3\n"
     ]
    }
   ],
   "source": [
    "tuple_a = (1, 2, 3)\n",
    "for i in tuple_a:\n",
    "  print(i)"
   ]
  },
  {
   "cell_type": "code",
   "execution_count": 24,
   "id": "324f708f",
   "metadata": {},
   "outputs": [
    {
     "name": "stdout",
     "output_type": "stream",
     "text": [
      "H e l l o "
     ]
    }
   ],
   "source": [
    "str_a = \"Hello\"\n",
    "for i in str_a:\n",
    "  print(i, end=\" \")"
   ]
  },
  {
   "cell_type": "code",
   "execution_count": 33,
   "id": "199f6168",
   "metadata": {},
   "outputs": [
    {
     "name": "stdout",
     "output_type": "stream",
     "text": [
      "정우 -> 90점으로 합격\n",
      "춘식 -> 25점으로 불합격\n",
      "철수 -> 67점으로 합격\n",
      "영희 -> 45점으로 불합격\n",
      "민수 -> 80점으로 합격\n"
     ]
    }
   ],
   "source": [
    "marks = [('정우', 90), ('춘식', 25), ('철수', 67), ('영희', 45), ('민수', 80)]\n",
    "\n",
    "for i, j in marks:\n",
    "  print(f\"{i} -> {j}점으로 {'' if j >= 60 else '불'}합격\") "
   ]
  },
  {
   "cell_type": "code",
   "execution_count": 35,
   "id": "79d7f53a",
   "metadata": {},
   "outputs": [
    {
     "name": "stdout",
     "output_type": "stream",
     "text": [
      "55\n"
     ]
    }
   ],
   "source": [
    "lst = [1, 2, 3, 4, 5, 6, 7, 8 ,9, 10]\n",
    "sum_ = 0\n",
    "for i in lst:\n",
    "  sum_ = sum_ + i\n",
    "print(sum_)"
   ]
  },
  {
   "cell_type": "code",
   "execution_count": 44,
   "id": "1d3a0296",
   "metadata": {},
   "outputs": [
    {
     "name": "stdout",
     "output_type": "stream",
     "text": [
      "[0, 2, 4, 6, 8]\n"
     ]
    }
   ],
   "source": [
    "lst = list(range(0, 10, 2))\n",
    "print(lst)"
   ]
  },
  {
   "cell_type": "code",
   "execution_count": 47,
   "id": "15c7458c",
   "metadata": {},
   "outputs": [
    {
     "name": "stdout",
     "output_type": "stream",
     "text": [
      "2 X 1 = 2 2 X 2 = 4 2 X 3 = 6 2 X 4 = 8 2 X 5 = 10 2 X 6 = 12 2 X 7 = 14 2 X 8 = 16 2 X 9 = 18  \n",
      "3 X 1 = 3 3 X 2 = 6 3 X 3 = 9 3 X 4 = 12 3 X 5 = 15 3 X 6 = 18 3 X 7 = 21 3 X 8 = 24 3 X 9 = 27  \n",
      "4 X 1 = 4 4 X 2 = 8 4 X 3 = 12 4 X 4 = 16 4 X 5 = 20 4 X 6 = 24 4 X 7 = 28 4 X 8 = 32 4 X 9 = 36  \n",
      "5 X 1 = 5 5 X 2 = 10 5 X 3 = 15 5 X 4 = 20 5 X 5 = 25 5 X 6 = 30 5 X 7 = 35 5 X 8 = 40 5 X 9 = 45  \n",
      "6 X 1 = 6 6 X 2 = 12 6 X 3 = 18 6 X 4 = 24 6 X 5 = 30 6 X 6 = 36 6 X 7 = 42 6 X 8 = 48 6 X 9 = 54  \n",
      "7 X 1 = 7 7 X 2 = 14 7 X 3 = 21 7 X 4 = 28 7 X 5 = 35 7 X 6 = 42 7 X 7 = 49 7 X 8 = 56 7 X 9 = 63  \n",
      "8 X 1 = 8 8 X 2 = 16 8 X 3 = 24 8 X 4 = 32 8 X 5 = 40 8 X 6 = 48 8 X 7 = 56 8 X 8 = 64 8 X 9 = 72  \n",
      "9 X 1 = 9 9 X 2 = 18 9 X 3 = 27 9 X 4 = 36 9 X 5 = 45 9 X 6 = 54 9 X 7 = 63 9 X 8 = 72 9 X 9 = 81  \n"
     ]
    }
   ],
   "source": [
    "for i in range (2, 10):\n",
    "  for j in range(1, 10):\n",
    "    print(f'{i} X {j} = {i * j}', end=\" \")\n",
    "  print(' ')"
   ]
  },
  {
   "cell_type": "code",
   "execution_count": null,
   "id": "a668376b",
   "metadata": {},
   "outputs": [],
   "source": []
  },
  {
   "cell_type": "code",
   "execution_count": null,
   "id": "05d2147c",
   "metadata": {},
   "outputs": [],
   "source": []
  },
  {
   "cell_type": "code",
   "execution_count": null,
   "id": "bb09bc36",
   "metadata": {},
   "outputs": [],
   "source": []
  }
 ],
 "metadata": {
  "kernelspec": {
   "display_name": "Python 3",
   "language": "python",
   "name": "python3"
  },
  "language_info": {
   "codemirror_mode": {
    "name": "ipython",
    "version": 3
   },
   "file_extension": ".py",
   "mimetype": "text/x-python",
   "name": "python",
   "nbconvert_exporter": "python",
   "pygments_lexer": "ipython3",
   "version": "3.13.7"
  }
 },
 "nbformat": 4,
 "nbformat_minor": 5
}
