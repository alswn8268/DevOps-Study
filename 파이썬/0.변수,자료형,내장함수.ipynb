{
 "cells": [
  {
   "cell_type": "code",
   "execution_count": 1,
   "id": "3af9ac79",
   "metadata": {},
   "outputs": [
    {
     "name": "stdout",
     "output_type": "stream",
     "text": [
      "Hello World!\n"
     ]
    }
   ],
   "source": [
    "print(\"Hello World!\")"
   ]
  },
  {
   "cell_type": "code",
   "execution_count": 3,
   "id": "e8c99f0e",
   "metadata": {},
   "outputs": [
    {
     "name": "stdout",
     "output_type": "stream",
     "text": [
      "7\n",
      "128\n"
     ]
    }
   ],
   "source": [
    "a = 7\n",
    "print(a)\n",
    "b = 128\n",
    "print(b)"
   ]
  },
  {
   "cell_type": "code",
   "execution_count": 8,
   "id": "5190e04a",
   "metadata": {},
   "outputs": [
    {
     "name": "stdout",
     "output_type": "stream",
     "text": [
      "128\n",
      "b\n"
     ]
    }
   ],
   "source": [
    "print(128)\n",
    "print(\"b\")"
   ]
  },
  {
   "cell_type": "code",
   "execution_count": 16,
   "id": "fd522b24",
   "metadata": {},
   "outputs": [
    {
     "name": "stdout",
     "output_type": "stream",
     "text": [
      "c\n"
     ]
    }
   ],
   "source": [
    "print('c')"
   ]
  },
  {
   "cell_type": "code",
   "execution_count": 19,
   "id": "b25b0a85",
   "metadata": {},
   "outputs": [
    {
     "name": "stdout",
     "output_type": "stream",
     "text": [
      "16\n"
     ]
    }
   ],
   "source": [
    "a = a + 3\n",
    "print (a)"
   ]
  },
  {
   "cell_type": "code",
   "execution_count": 22,
   "id": "2d5b48a7",
   "metadata": {},
   "outputs": [
    {
     "name": "stdout",
     "output_type": "stream",
     "text": [
      "파이썬 신난다ㅏㅏ\n"
     ]
    }
   ],
   "source": [
    "print(\"파이썬 신난다ㅏㅏ\")"
   ]
  },
  {
   "cell_type": "markdown",
   "id": "cf971ee0",
   "metadata": {},
   "source": [
    "# 자료형\n",
    "\n",
    "- 숫자 자료형\n",
    "- 문자열 자료형"
   ]
  },
  {
   "cell_type": "code",
   "execution_count": 29,
   "id": "bde9c677",
   "metadata": {},
   "outputs": [
    {
     "ename": "SyntaxError",
     "evalue": "invalid syntax. Perhaps you forgot a comma? (749114489.py, line 7)",
     "output_type": "error",
     "traceback": [
      "  \u001b[36mCell\u001b[39m\u001b[36m \u001b[39m\u001b[32mIn[29]\u001b[39m\u001b[32m, line 7\u001b[39m\n\u001b[31m    \u001b[39m\u001b[31mprint (a /z b)\u001b[39m\n           ^\n\u001b[31mSyntaxError\u001b[39m\u001b[31m:\u001b[39m invalid syntax. Perhaps you forgot a comma?\n"
     ]
    }
   ],
   "source": [
    "# 숫자형\n",
    "a = 1\n",
    "b = 3\n",
    "print (a + b)\n",
    "print (a - b)\n",
    "print (a * b)\n",
    "print (a / b)"
   ]
  },
  {
   "cell_type": "code",
   "execution_count": 33,
   "id": "86f3074b",
   "metadata": {},
   "outputs": [
    {
     "name": "stdout",
     "output_type": "stream",
     "text": [
      "129\n",
      "a128\n"
     ]
    }
   ],
   "source": [
    "print (a + 128)\n",
    "print ('a' + '128')"
   ]
  },
  {
   "cell_type": "markdown",
   "id": "3cb0b9b1",
   "metadata": {},
   "source": [
    "# 숫자형\n",
    "## 정수형"
   ]
  },
  {
   "cell_type": "code",
   "execution_count": 38,
   "id": "abc153de",
   "metadata": {},
   "outputs": [
    {
     "name": "stdout",
     "output_type": "stream",
     "text": [
      "<class 'int'>\n"
     ]
    },
    {
     "data": {
      "text/plain": [
       "123"
      ]
     },
     "execution_count": 38,
     "metadata": {},
     "output_type": "execute_result"
    }
   ],
   "source": [
    "a = 123\n",
    "print(type(a))\n",
    "a"
   ]
  },
  {
   "cell_type": "code",
   "execution_count": 42,
   "id": "79b7819c",
   "metadata": {},
   "outputs": [
    {
     "name": "stdout",
     "output_type": "stream",
     "text": [
      "<class 'int'>\n"
     ]
    },
    {
     "data": {
      "text/plain": [
       "178"
      ]
     },
     "execution_count": 42,
     "metadata": {},
     "output_type": "execute_result"
    }
   ],
   "source": [
    "a = 178\n",
    "print(type(a))\n",
    "a"
   ]
  },
  {
   "cell_type": "code",
   "execution_count": 43,
   "id": "2b099ec7",
   "metadata": {},
   "outputs": [
    {
     "name": "stdout",
     "output_type": "stream",
     "text": [
      "<class 'int'>\n"
     ]
    },
    {
     "data": {
      "text/plain": [
       "0"
      ]
     },
     "execution_count": 43,
     "metadata": {},
     "output_type": "execute_result"
    }
   ],
   "source": [
    "a = 0\n",
    "print(type(a))\n",
    "a"
   ]
  },
  {
   "cell_type": "markdown",
   "id": "5fc244ac",
   "metadata": {},
   "source": [
    "## 실수형"
   ]
  },
  {
   "cell_type": "code",
   "execution_count": 45,
   "id": "f2569559",
   "metadata": {},
   "outputs": [
    {
     "name": "stdout",
     "output_type": "stream",
     "text": [
      "<class 'float'>\n"
     ]
    },
    {
     "data": {
      "text/plain": [
       "1.2"
      ]
     },
     "execution_count": 45,
     "metadata": {},
     "output_type": "execute_result"
    }
   ],
   "source": [
    "a = 1.2\n",
    "print(type(a))\n",
    "a"
   ]
  },
  {
   "cell_type": "code",
   "execution_count": 50,
   "id": "2f5107a5",
   "metadata": {},
   "outputs": [
    {
     "name": "stdout",
     "output_type": "stream",
     "text": [
      "<class 'float'>\n"
     ]
    },
    {
     "data": {
      "text/plain": [
       "0.0424"
      ]
     },
     "execution_count": 50,
     "metadata": {},
     "output_type": "execute_result"
    }
   ],
   "source": [
    "a = 4.24e-2\n",
    "print(type(a))\n",
    "a"
   ]
  },
  {
   "cell_type": "code",
   "execution_count": 53,
   "id": "9ae34a17",
   "metadata": {},
   "outputs": [
    {
     "name": "stdout",
     "output_type": "stream",
     "text": [
      "<class 'float'>\n",
      "7.2\n",
      "<class 'int'> <class 'float'>\n",
      "<class 'int'>\n"
     ]
    }
   ],
   "source": [
    "a = 3\n",
    "b = 4.2\n",
    "c = a +b \n",
    "print(type(c))\n",
    "print(c)\n",
    "\n",
    "\n",
    "print(type(a), type(b))\n",
    "print(type(a))"
   ]
  },
  {
   "cell_type": "markdown",
   "id": "26f54ef6",
   "metadata": {},
   "source": [
    "숫자형을 활용하기 위한 연산자"
   ]
  },
  {
   "cell_type": "code",
   "execution_count": 55,
   "id": "ddff7742",
   "metadata": {},
   "outputs": [
    {
     "data": {
      "text/plain": [
       "0.75"
      ]
     },
     "execution_count": 55,
     "metadata": {},
     "output_type": "execute_result"
    }
   ],
   "source": [
    "a = 3\n",
    "b = 4\n",
    "a + b\n",
    "a -b\n",
    "a * b\n",
    "a / b"
   ]
  },
  {
   "cell_type": "markdown",
   "id": "b0e59bc4",
   "metadata": {},
   "source": [
    "1. X의 제곱을 보여주는 ** 연산자\n",
    "2. 나눗셈 후 나머지를 반환하는 % 연산자\n",
    "3. 나눗셈 후 몫울 반환하는 // 연산자"
   ]
  },
  {
   "cell_type": "code",
   "execution_count": 59,
   "id": "d8915bc6",
   "metadata": {},
   "outputs": [
    {
     "name": "stdout",
     "output_type": "stream",
     "text": [
      "81\n",
      "3\n",
      "0\n"
     ]
    }
   ],
   "source": [
    "print(a ** b)\n",
    "print(a % b)\n",
    "print(a // b)"
   ]
  },
  {
   "cell_type": "markdown",
   "id": "5f5c8798",
   "metadata": {},
   "source": [
    "## 문자열"
   ]
  },
  {
   "cell_type": "markdown",
   "id": "be6f713a",
   "metadata": {},
   "source": [
    "1. 큰따옴표로 양쪽 둘러싸기\n",
    "2. 작은따옴표로 양쪽 둘러싸기\n",
    "3. 큰따옴표 3개 또는 작은따옴표 3개를 연속으로 써서 양쪽 둘러싸기"
   ]
  },
  {
   "cell_type": "code",
   "execution_count": 62,
   "id": "2745c25e",
   "metadata": {},
   "outputs": [
    {
     "name": "stdout",
     "output_type": "stream",
     "text": [
      "Hello World\n",
      "Hello World\n",
      "Hello World\n",
      "Hello World\n"
     ]
    }
   ],
   "source": [
    "print(\"Hello World\")\n",
    "print('Hello World')\n",
    "print(\"\"\"Hello World\"\"\")\n",
    "print('''Hello World''')"
   ]
  },
  {
   "cell_type": "markdown",
   "id": "10d5eab7",
   "metadata": {},
   "source": [
    "문자열 안에 작은따옴표나 큰따옴표를 포함시키고 싶을 때"
   ]
  },
  {
   "cell_type": "code",
   "execution_count": 68,
   "id": "add4652a",
   "metadata": {},
   "outputs": [
    {
     "name": "stdout",
     "output_type": "stream",
     "text": [
      "Python's favorit food is perl\n",
      "Python's favorit...\n",
      "\"Python is very easy.\" he says.\n",
      "Python is very easy. \n",
      "he says.\n",
      "hell\n",
      "lllllllll\n",
      "ooooo\n"
     ]
    }
   ],
   "source": [
    "food = \"Python's favorit food is perl\"\n",
    "food2 = 'Python\\'s favorit...'\n",
    "say = \"\\\"Python is very easy.\\\" he says.\"\n",
    "say2 = \"Python is very easy. \\nhe says.\"\n",
    "say3 = \"\"\"hell\n",
    "lllllllll\n",
    "ooooo\"\"\"\n",
    "print(food)\n",
    "print(food2)\n",
    "print(say)\n",
    "print(say2)\n",
    "print(say3)"
   ]
  },
  {
   "cell_type": "markdown",
   "id": "0fbbf974",
   "metadata": {},
   "source": [
    "## 문자열 연산"
   ]
  },
  {
   "cell_type": "code",
   "execution_count": 75,
   "id": "00a8fe2f",
   "metadata": {},
   "outputs": [
    {
     "name": "stdout",
     "output_type": "stream",
     "text": [
      "Python is fun!!\n",
      "Python Python Python \n"
     ]
    }
   ],
   "source": [
    "head = \"Python \"\n",
    "tail = \"is fun!!\"\n",
    "print(head + tail)\n",
    "print(head * 3)"
   ]
  },
  {
   "cell_type": "code",
   "execution_count": 76,
   "id": "b469b8c5",
   "metadata": {},
   "outputs": [
    {
     "name": "stdout",
     "output_type": "stream",
     "text": [
      "17\n"
     ]
    }
   ],
   "source": [
    "a = 'life is too short'\n",
    "print(len(a))"
   ]
  },
  {
   "cell_type": "markdown",
   "id": "d1b26f32",
   "metadata": {},
   "source": [
    "## 인덱싱, 슬라이싱"
   ]
  },
  {
   "cell_type": "code",
   "execution_count": 81,
   "id": "84ae4b1a",
   "metadata": {},
   "outputs": [
    {
     "name": "stdout",
     "output_type": "stream",
     "text": [
      "34\n",
      "i\n",
      "l\n",
      "n\n",
      "n\n",
      "n\n"
     ]
    }
   ],
   "source": [
    "a = 'life is too short, you need python'\n",
    "print(len(a))\n",
    "print(a[1])\n",
    "print(a[0])\n",
    "print(a[33])\n",
    "\n",
    "print(a[len(a) - 1])\n",
    "print(a[-1])"
   ]
  },
  {
   "cell_type": "code",
   "execution_count": 83,
   "id": "d0b9e0ae",
   "metadata": {},
   "outputs": [
    {
     "name": "stdout",
     "output_type": "stream",
     "text": [
      "life\n",
      "life\n",
      " python\n"
     ]
    }
   ],
   "source": [
    "print(a[0:4])\n",
    "print(a[:4])\n",
    "print(a[27:34])"
   ]
  },
  {
   "cell_type": "markdown",
   "id": "aa5da3c3",
   "metadata": {},
   "source": [
    "## 문자열 내장 함수"
   ]
  },
  {
   "cell_type": "code",
   "execution_count": null,
   "id": "5be9ae50",
   "metadata": {},
   "outputs": [
    {
     "name": "stdout",
     "output_type": "stream",
     "text": [
      "ABCDEFG\n",
      "abcdefg\n",
      "7\n",
      "-1\n",
      "4\n",
      "ABCDEFGH\n",
      "123 414 2\n",
      "       123 414 2\n",
      "123 414 2     \n",
      "['123', '414', '2']\n"
     ]
    }
   ],
   "source": [
    "s = 'abCdeFg'\n",
    "print(s.upper())\n",
    "print(s.lower())\n",
    "\n",
    "s2 = \"It's always such a pleasure\"\n",
    "print(s2.find('way'))\n",
    "print(s2.find('the'))\n",
    "print(s2.count('a'))\n",
    "\n",
    "s3 = 'AB-C-D-EFGH'\n",
    "print(s3.replace('-', ''))\n",
    "\n",
    "s4 = '       123 414 2     '\n",
    "print(s4.strip())\n",
    "print(s4.rstrip())\n",
    "print(s4.lstrip())\n",
    "print(s4.split())\n",
    "\n"
   ]
  },
  {
   "cell_type": "code",
   "execution_count": null,
   "id": "e0677082",
   "metadata": {},
   "outputs": [],
   "source": []
  },
  {
   "cell_type": "code",
   "execution_count": null,
   "id": "7054b5c7",
   "metadata": {},
   "outputs": [],
   "source": []
  }
 ],
 "metadata": {
  "kernelspec": {
   "display_name": "Python 3",
   "language": "python",
   "name": "python3"
  },
  "language_info": {
   "codemirror_mode": {
    "name": "ipython",
    "version": 3
   },
   "file_extension": ".py",
   "mimetype": "text/x-python",
   "name": "python",
   "nbconvert_exporter": "python",
   "pygments_lexer": "ipython3",
   "version": "3.13.7"
  }
 },
 "nbformat": 4,
 "nbformat_minor": 5
}
